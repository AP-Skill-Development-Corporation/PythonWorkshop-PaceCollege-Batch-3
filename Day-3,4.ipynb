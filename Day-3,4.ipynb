{
 "cells": [
  {
   "cell_type": "markdown",
   "metadata": {},
   "source": [
    "# To day Agenda\n",
    "\n",
    "# User defined  Functions\n",
    "\n",
    "# Strings\n",
    "\n",
    "# List\n",
    "\n",
    "# tuple\n",
    "\n",
    "# dictionary\n",
    "\n",
    "# sets"
   ]
  },
  {
   "cell_type": "code",
   "execution_count": null,
   "metadata": {},
   "outputs": [],
   "source": [
    "# user defined\n",
    "\n",
    "# block of statememts to perform pirtuclar task\n",
    "\n",
    "# Code reusebulity\n",
    "\n",
    "# time will save\n",
    "\n",
    "# syntax\n",
    "\n",
    "# def functionname(arguments/parameters):\n",
    "    #statemants\n",
    "\n",
    "# calling function\n",
    "\n",
    "#functionname(arguments/parameters)\n"
   ]
  },
  {
   "cell_type": "code",
   "execution_count": null,
   "metadata": {},
   "outputs": [],
   "source": [
    "# with arguments with return type\n",
    "# without arguments with return type\n",
    "# without arguments without returntype\n",
    "# with arguments without returntype\n",
    "\n",
    "# required argument/Positional argument\n",
    "# keyword argument\n",
    "# default argument\n",
    "# variablelength argument"
   ]
  },
  {
   "cell_type": "code",
   "execution_count": null,
   "metadata": {},
   "outputs": [],
   "source": [
    "def sample():\n",
    "    pass\n",
    "print('python workshop')\n",
    "sample()"
   ]
  },
  {
   "cell_type": "code",
   "execution_count": null,
   "metadata": {},
   "outputs": [],
   "source": [
    "# with arguments with return type\n",
    "def add(a,b,c):\n",
    "    d=a+b+c\n",
    "    return ('add of two num is',d)\n",
    "add(10,20,30)"
   ]
  },
  {
   "cell_type": "code",
   "execution_count": null,
   "metadata": {},
   "outputs": [],
   "source": [
    "# without arguments with return type\n",
    "def sub():\n",
    "    a=20\n",
    "    b=30\n",
    "    return a-b\n",
    "sub()"
   ]
  },
  {
   "cell_type": "code",
   "execution_count": null,
   "metadata": {},
   "outputs": [],
   "source": [
    "# without arguments without returntype\n",
    "def mul():\n",
    "    n=10\n",
    "    m=20\n",
    "    print('Multiplication of %d * %d = %d '%(n,m,n*m))\n",
    "mul()"
   ]
  },
  {
   "cell_type": "code",
   "execution_count": null,
   "metadata": {},
   "outputs": [],
   "source": [
    "# with arguments without returntype\n",
    "\n",
    "def div(p,q):\n",
    "    print(p/q)\n",
    "div(10,20)"
   ]
  },
  {
   "cell_type": "code",
   "execution_count": null,
   "metadata": {},
   "outputs": [],
   "source": [
    "def sum1(a,b):\n",
    "    return 'sum of %d + %d = %d'%(a,b,a+b)\n",
    "a=int(input('enter value'))\n",
    "b=int(input('enter value'))\n",
    "sum1(a,b)"
   ]
  },
  {
   "cell_type": "code",
   "execution_count": null,
   "metadata": {},
   "outputs": [],
   "source": [
    "# required/positional argument\n",
    "\n",
    "def interest(p,t,r):\n",
    "    total=p*t*r/100\n",
    "    return total\n",
    "p=int(input('enter principal amt :-'))\n",
    "t=float(input('enter time :-'))\n",
    "r=float(input('enter rate :-'))\n",
    "interest(p,t,r)"
   ]
  },
  {
   "cell_type": "code",
   "execution_count": null,
   "metadata": {},
   "outputs": [],
   "source": [
    "# Keyword argument\n",
    "def simple(p,t,r):\n",
    "    total=p*t*r/100\n",
    "    return total\n",
    "p=int(input('enter principal amt :-'))\n",
    "t=float(input('enter time :-'))\n",
    "r=float(input('enter rate :-'))\n",
    "simple(t=2.0,r=1.50,p=10000)# static\n",
    "simple(t=t,r=r,p=p) # dynamic"
   ]
  },
  {
   "cell_type": "code",
   "execution_count": null,
   "metadata": {},
   "outputs": [],
   "source": [
    "# default argument\n",
    "def simple1(p=1000,t=2.0,r=3.0):\n",
    "    print(p*t*r/100)\n",
    "#simple1()\n",
    "simple1(p=2000)"
   ]
  },
  {
   "cell_type": "code",
   "execution_count": null,
   "metadata": {},
   "outputs": [],
   "source": [
    "# variable length argument\n",
    "def var_sum(*a):\n",
    "    s=0\n",
    "    for i in a:\n",
    "        s+=i\n",
    "    #print(s+=1)\n",
    "    print(s)\n",
    "var_sum(1,2,3,4,5,6)"
   ]
  },
  {
   "cell_type": "code",
   "execution_count": null,
   "metadata": {
    "scrolled": false
   },
   "outputs": [],
   "source": [
    "print(\"Choose Operation.\")\n",
    "print(\"1.Add\")\n",
    "print(\"2.Subtract\")\n",
    "print(\"3.Multiply\")\n",
    "print(\"4.Divide\")\n",
    "print(\"5.Mod\")\n",
    "print(\"6.Power\")\n",
    "\n",
    "choice=int(input(\"enter your choice 1/2/3/4/5/6: -\"))\n",
    "\n",
    "num1 = int(input(\"Enter first number: \"))\n",
    "num2 = int(input(\"Enter second number: \"))\n",
    "\n",
    "\n",
    "def add(num1,num2):\n",
    "    print('Addition of %d + %d = %d'%(num1,num2,num1+num2))\n",
    "    \n",
    "def sub(num1,num2):\n",
    "    print('Substraction of %d - %d = %d'%(num1,num2,num1-num2))\n",
    "\n",
    "def mul(num1,num2):\n",
    "    print('Multiplication  of %d * %d = %d'%(num1,num2,num1*num2))\n",
    "\n",
    "def div(num1,num2):\n",
    "    print('Division of %d / %d = %d'%(num1,num2,num1/num2))\n",
    "\n",
    "def mod(num1,num2):\n",
    "    print('Mod of %d % %d = %d'%(num1,num2,num1%num2))\n",
    "\n",
    "def power(num1,num2):\n",
    "    print('Power of %d ** %d = %d'%(num1,num2,num1**num2))\n",
    "    \n",
    "if choice == 1:\n",
    "    add(num1,num2)\n",
    "    \n",
    "elif choice == 2:\n",
    "    sub(num1,num2)\n",
    "    \n",
    "elif choice == 3:\n",
    "    mul(num1,num2)\n",
    "    \n",
    "elif choice == 4:\n",
    "    div(num1,num2)\n",
    "    \n",
    "elif choice== 5:\n",
    "    mod(num1,num2)\n",
    "    \n",
    "elif choice== 6:\n",
    "    power(num1,num2)\n",
    "    \n",
    "else:\n",
    "    print(\"Invalid Choice\")"
   ]
  },
  {
   "cell_type": "code",
   "execution_count": null,
   "metadata": {},
   "outputs": [],
   "source": [
    "# Strings\n",
    "# Strings\n",
    "\"\"\"\n",
    "-->Collection of charatcter is called string\n",
    "\n",
    "--->Group of chararcters is called a string\n",
    "\n",
    "-->in python string representation is '' or \"\" or \"\"\"\"\"\"\n",
    "\n",
    "---> In python string immutable\n",
    "\n",
    "---> in python string is indexed value based\n",
    "\n",
    "--->string supports slicing operator--->':'\n",
    "\"\"\"\n",
    "#a=''' '''\n",
    "#print(type(a))\n",
    "'''\n",
    "a=\"welcome to python\"\n",
    "print(a)\n",
    "\n",
    "# concatination of string\n",
    "b='workshop'\n",
    "c=a+b\n",
    "print(c) # a+= 'hello'\n",
    "\n",
    "# getting values\n",
    "\n",
    "print(a[0])\n",
    "print(a[1])\n",
    "\n",
    "# forwardindex and backword index\n",
    "\n",
    "# forwardindex\n",
    "\n",
    "print(a[0])\n",
    "print(a[5])\n",
    "\n",
    "# backword index\n",
    "s=\"welcome to python\"\n",
    "print(s[-1])\n",
    "print(s[-5])\n",
    "\n",
    "\n",
    "# slicing operation-->:\n",
    "\n",
    "name='python programming'\n",
    "\n",
    "#print(name[:])\n",
    "#print(name[0:6])\n",
    "#print(name[4:6])\n",
    "#print(name[::-1])\n",
    "#print(name[0:17:2])\n",
    "#print(name[6:7])\n",
    "print(name[0:])\n",
    "'''\n",
    "# String Methods 3 ways\n",
    "# by using datatype--->str\n",
    "#print(dir(str))\n",
    "#n=''\n",
    "#print(dir(n))\n",
    "\n",
    "#m='hello'\n",
    "#print(dir(m))\n",
    "\n",
    "p='  welcome to apssdc  '\n",
    "#print(p.capitalize())\n",
    "\n",
    "#print(p.casefold())\n",
    "#print(p.swapcase())\n",
    "#print(p.count('S'))\n",
    "#print(p.index('z'))\n",
    "#print(p.find('x'))\n",
    "#print(p.center(20,'*'))\n",
    "#print('My name is {0} & i am from {1}'.format('abc','xyz'))\n",
    "#print(p.upper())\n",
    "#print(p.lower())\n",
    "#print(p.title())\n",
    "#print(p.isupper())\n",
    "#print(p.islower())\n",
    "#print(p.startswith('w'))\n",
    "#print(p.endswith('c'))\n",
    "#print(p.istitle())\n",
    "q='<--'\n",
    "#print(q.join(p))\n",
    "#print(p.isdigit())\n",
    "#print(p.isalpha())\n",
    "#print(p.isalnum())\n",
    "#print('python\\tprogtamming\\tworkshop'.expandtabs())\n",
    "'''split,\n",
    "spltlines,\n",
    "strip,\n",
    "lstrip,\n",
    "rstrip'''\n",
    "\n",
    "#print(p.split())\n",
    "#print(p.strip())\n",
    "\n",
    "print(p.lstrip())\n",
    "print(p.rstrip())\n"
   ]
  },
  {
   "cell_type": "code",
   "execution_count": null,
   "metadata": {},
   "outputs": [],
   "source": [
    "# Data starctures concepts\n",
    "# List\n",
    "# Tuple\n",
    "# Dictionary\n",
    "# sets"
   ]
  },
  {
   "cell_type": "code",
   "execution_count": null,
   "metadata": {},
   "outputs": [],
   "source": [
    "# List\n",
    "# List is a collection of hetrogenous data elements\n",
    "# list is mutable\n",
    "# list representation []\n",
    "# list supports slicing-->:\n",
    "\n",
    "# syntax\n",
    "\n",
    "#variablename=[]"
   ]
  },
  {
   "cell_type": "code",
   "execution_count": null,
   "metadata": {},
   "outputs": [],
   "source": [
    "l1=[1,2,3,'hi','hello',10.25]\n",
    "l1"
   ]
  },
  {
   "cell_type": "code",
   "execution_count": null,
   "metadata": {},
   "outputs": [],
   "source": [
    "l2=[4,5,6,'hru']\n",
    "l3=l1+l2\n",
    "print(l3)"
   ]
  },
  {
   "cell_type": "code",
   "execution_count": null,
   "metadata": {},
   "outputs": [],
   "source": [
    "# forword index\n",
    "l3[3]\n",
    "l3[6]\n",
    "# backword index\n",
    "l3[-1]\n",
    "l3[-4]\n",
    "\n",
    "# list slicing\n",
    "\n",
    "l3[3:5]\n",
    "\n",
    "l3[::-1]\n",
    "\n",
    "l3[0:11:2]"
   ]
  },
  {
   "cell_type": "code",
   "execution_count": null,
   "metadata": {},
   "outputs": [],
   "source": [
    "# List Methods\n",
    "dir(list)\n",
    "\n",
    "# Append\n",
    "l3.append([11,12])\n",
    "\n",
    "l3.extend([13,13,15])\n",
    "l3"
   ]
  },
  {
   "cell_type": "code",
   "execution_count": null,
   "metadata": {},
   "outputs": [],
   "source": [
    "l3[11][0]\n",
    "dir(l3)"
   ]
  },
  {
   "cell_type": "code",
   "execution_count": null,
   "metadata": {},
   "outputs": [],
   "source": [
    "l3.count(10)"
   ]
  },
  {
   "cell_type": "code",
   "execution_count": null,
   "metadata": {},
   "outputs": [],
   "source": [
    "l3.index(5)"
   ]
  },
  {
   "cell_type": "code",
   "execution_count": null,
   "metadata": {},
   "outputs": [],
   "source": [
    "# insert\n",
    "s=['a','o']\n",
    "\n",
    "s.insert(1,'e')\n",
    "s.insert(2,'i')\n",
    "s.insert(4,'u')\n",
    "s"
   ]
  },
  {
   "cell_type": "code",
   "execution_count": null,
   "metadata": {},
   "outputs": [],
   "source": [
    "# difference b/w pop,remove,del\n",
    "#pop()---->last in firstout\n",
    "#remove()--->value based\n",
    "#del--->index value based"
   ]
  },
  {
   "cell_type": "code",
   "execution_count": null,
   "metadata": {},
   "outputs": [],
   "source": [
    "l3.pop()"
   ]
  },
  {
   "cell_type": "code",
   "execution_count": null,
   "metadata": {},
   "outputs": [],
   "source": [
    "l3.remove('hi')"
   ]
  },
  {
   "cell_type": "code",
   "execution_count": null,
   "metadata": {},
   "outputs": [],
   "source": [
    "l3"
   ]
  },
  {
   "cell_type": "code",
   "execution_count": null,
   "metadata": {},
   "outputs": [],
   "source": [
    "del l3[11]"
   ]
  },
  {
   "cell_type": "code",
   "execution_count": null,
   "metadata": {},
   "outputs": [],
   "source": [
    "l3"
   ]
  },
  {
   "cell_type": "code",
   "execution_count": null,
   "metadata": {},
   "outputs": [],
   "source": [
    "# sort\n",
    "l4=[4,7,8,1,4,9,1]\n",
    "l4.sort()\n",
    "l4"
   ]
  },
  {
   "cell_type": "code",
   "execution_count": null,
   "metadata": {},
   "outputs": [],
   "source": [
    "# Reverse\n",
    "l4.sort(reverse=False)\n",
    "l4.sort(reverse=False)\n",
    "l4"
   ]
  },
  {
   "cell_type": "code",
   "execution_count": null,
   "metadata": {},
   "outputs": [],
   "source": [
    "# copy  1. =, 2. copy method\n",
    "l5=l3\n",
    "l5\n",
    "l3"
   ]
  },
  {
   "cell_type": "code",
   "execution_count": null,
   "metadata": {},
   "outputs": [],
   "source": [
    "l6=l3.copy()\n",
    "l6"
   ]
  },
  {
   "cell_type": "code",
   "execution_count": null,
   "metadata": {},
   "outputs": [],
   "source": [
    "l3.append(14)\n",
    "l3"
   ]
  },
  {
   "cell_type": "code",
   "execution_count": null,
   "metadata": {},
   "outputs": [],
   "source": [
    "l5"
   ]
  },
  {
   "cell_type": "code",
   "execution_count": null,
   "metadata": {},
   "outputs": [],
   "source": [
    "l6"
   ]
  },
  {
   "cell_type": "code",
   "execution_count": null,
   "metadata": {},
   "outputs": [],
   "source": [
    "l6=l3.copy()\n",
    "l6"
   ]
  },
  {
   "cell_type": "code",
   "execution_count": null,
   "metadata": {},
   "outputs": [],
   "source": [
    "l3.clear()\n",
    "l3"
   ]
  },
  {
   "cell_type": "code",
   "execution_count": null,
   "metadata": {},
   "outputs": [],
   "source": [
    "l4"
   ]
  },
  {
   "cell_type": "code",
   "execution_count": null,
   "metadata": {},
   "outputs": [],
   "source": [
    "l4[1]=2\n",
    "l4"
   ]
  },
  {
   "cell_type": "code",
   "execution_count": null,
   "metadata": {},
   "outputs": [],
   "source": [
    "l4[2]=3\n",
    "l4"
   ]
  },
  {
   "cell_type": "code",
   "execution_count": null,
   "metadata": {},
   "outputs": [],
   "source": [
    "# Tuples\n",
    "\n",
    "# tuples is a collection of hetrogenous data elements\n",
    "# tuple is immutable\n",
    "# tuple representation ()\n",
    "# typles supports slicing-->:\n",
    "\n",
    "# Syntax\n",
    "# variable=()"
   ]
  },
  {
   "cell_type": "code",
   "execution_count": null,
   "metadata": {},
   "outputs": [],
   "source": [
    "tup=(1,2,'welcome','workshop',45.25,4,6)\n",
    "#type(tup)\n",
    "tup"
   ]
  },
  {
   "cell_type": "code",
   "execution_count": null,
   "metadata": {},
   "outputs": [],
   "source": [
    "tup[2]\n",
    "tup[5]\n",
    "tup[-2]\n",
    "tup[-5]\n",
    "tup[0:]\n",
    "tup[:]\n",
    "tup[::-1]"
   ]
  },
  {
   "cell_type": "code",
   "execution_count": null,
   "metadata": {},
   "outputs": [],
   "source": [
    "#tuple methods\n",
    "dir(tup)"
   ]
  },
  {
   "cell_type": "code",
   "execution_count": null,
   "metadata": {},
   "outputs": [],
   "source": [
    "# packing & unpacking\n",
    "emp=('Ao0645','abc','developer','Apssdc','ong')\n",
    "(eid,name,disg,comp,place)=emp\n",
    "print(eid)\n",
    "print(comp)"
   ]
  },
  {
   "cell_type": "code",
   "execution_count": null,
   "metadata": {},
   "outputs": [],
   "source": [
    "tup[2]=3\n",
    "tup"
   ]
  },
  {
   "cell_type": "code",
   "execution_count": null,
   "metadata": {},
   "outputs": [],
   "source": [
    "# Dictionary\n",
    "# Dictionary is a unordered collection of different data item\n",
    "# in Dictionary we have 2 pairs those are key &value\n",
    "# key is fixed\n",
    "# value be change\n",
    "# dictionary representation-->{}\n",
    "\n",
    "# syntax\n",
    "\n",
    "# varname={key:value}"
   ]
  },
  {
   "cell_type": "code",
   "execution_count": null,
   "metadata": {},
   "outputs": [],
   "source": [
    "address={'name':'sai','place':'ongole'}\n",
    "address"
   ]
  },
  {
   "cell_type": "code",
   "execution_count": null,
   "metadata": {},
   "outputs": [],
   "source": [
    "address['pincode']=523001\n",
    "address"
   ]
  },
  {
   "cell_type": "code",
   "execution_count": null,
   "metadata": {},
   "outputs": [],
   "source": [
    "dir(dict)"
   ]
  },
  {
   "cell_type": "code",
   "execution_count": null,
   "metadata": {},
   "outputs": [],
   "source": [
    "address.keys()"
   ]
  },
  {
   "cell_type": "code",
   "execution_count": null,
   "metadata": {},
   "outputs": [],
   "source": [
    "address.values()"
   ]
  },
  {
   "cell_type": "code",
   "execution_count": null,
   "metadata": {},
   "outputs": [],
   "source": [
    "address.items()"
   ]
  },
  {
   "cell_type": "code",
   "execution_count": null,
   "metadata": {},
   "outputs": [],
   "source": [
    "address.get('name')"
   ]
  },
  {
   "cell_type": "code",
   "execution_count": null,
   "metadata": {},
   "outputs": [],
   "source": [
    "address.popitem()"
   ]
  },
  {
   "cell_type": "code",
   "execution_count": null,
   "metadata": {},
   "outputs": [],
   "source": [
    "address"
   ]
  },
  {
   "cell_type": "code",
   "execution_count": null,
   "metadata": {},
   "outputs": [],
   "source": [
    "address.pop('place')"
   ]
  },
  {
   "cell_type": "code",
   "execution_count": null,
   "metadata": {},
   "outputs": [],
   "source": [
    "address"
   ]
  },
  {
   "cell_type": "code",
   "execution_count": null,
   "metadata": {},
   "outputs": [],
   "source": [
    "address2={'place':'Ongole','pincode':523001,'street':'xyz'}\n",
    "address2"
   ]
  },
  {
   "cell_type": "code",
   "execution_count": null,
   "metadata": {},
   "outputs": [],
   "source": [
    "address.update(address2)"
   ]
  },
  {
   "cell_type": "code",
   "execution_count": null,
   "metadata": {},
   "outputs": [],
   "source": [
    "address"
   ]
  },
  {
   "cell_type": "code",
   "execution_count": null,
   "metadata": {},
   "outputs": [],
   "source": [
    "address['name']='sairam'"
   ]
  },
  {
   "cell_type": "code",
   "execution_count": null,
   "metadata": {},
   "outputs": [],
   "source": [
    "address"
   ]
  },
  {
   "cell_type": "code",
   "execution_count": null,
   "metadata": {},
   "outputs": [],
   "source": [
    "address"
   ]
  },
  {
   "cell_type": "code",
   "execution_count": null,
   "metadata": {},
   "outputs": [],
   "source": [
    "address3=dict.fromkeys(address,'fields')\n",
    "address3"
   ]
  },
  {
   "cell_type": "code",
   "execution_count": null,
   "metadata": {},
   "outputs": [],
   "source": [
    "# set\n",
    "\n",
    "#Syntax\n",
    "# var={1,2,3,4}\n",
    "\n"
   ]
  },
  {
   "cell_type": "code",
   "execution_count": null,
   "metadata": {},
   "outputs": [],
   "source": [
    "a={1,2,3,1,2,3,4,6,7,8,5,10,11}\n",
    "a"
   ]
  },
  {
   "cell_type": "code",
   "execution_count": null,
   "metadata": {},
   "outputs": [],
   "source": [
    "b={10,11,12,13,14}\n",
    "b"
   ]
  },
  {
   "cell_type": "code",
   "execution_count": null,
   "metadata": {},
   "outputs": [],
   "source": [
    "dir(a)"
   ]
  },
  {
   "cell_type": "code",
   "execution_count": null,
   "metadata": {},
   "outputs": [],
   "source": [
    "a.union(b)"
   ]
  },
  {
   "cell_type": "code",
   "execution_count": null,
   "metadata": {},
   "outputs": [],
   "source": [
    "a.intersection(b)"
   ]
  },
  {
   "cell_type": "code",
   "execution_count": null,
   "metadata": {},
   "outputs": [],
   "source": [
    "a.difference(b)\n",
    "b.difference(a)"
   ]
  },
  {
   "cell_type": "code",
   "execution_count": null,
   "metadata": {},
   "outputs": [],
   "source": [
    "a.add(9)\n",
    "a"
   ]
  },
  {
   "cell_type": "code",
   "execution_count": null,
   "metadata": {},
   "outputs": [],
   "source": [
    "a.discard(11)\n",
    "a"
   ]
  },
  {
   "cell_type": "code",
   "execution_count": null,
   "metadata": {},
   "outputs": [],
   "source": [
    "a.pop()"
   ]
  },
  {
   "cell_type": "code",
   "execution_count": null,
   "metadata": {},
   "outputs": [],
   "source": [
    "# List Comphesions\n",
    "# written single of code\n",
    "\n",
    "# for temp in range(0,10):\n",
    "#     print(temp)\n",
    "\n",
    "d=[i for i in range(0,10)]\n",
    "d\n",
    "list(i for i in range(0,20+1))\n",
    "\n",
    "list(i for i in range(0,50+1) if i%2==0)\n",
    "\n",
    "list(i for i in range (0,50+1) if i%2==1)\n",
    "\n",
    "d = {i:i**2 for i in range(1,11)}\n",
    "d"
   ]
  },
  {
   "cell_type": "code",
   "execution_count": null,
   "metadata": {},
   "outputs": [],
   "source": [
    "# Regular Expressions\n",
    "\n",
    "# Packages & Modules"
   ]
  },
  {
   "cell_type": "code",
   "execution_count": null,
   "metadata": {},
   "outputs": [],
   "source": [
    "# Regular Expressions\n",
    "\n",
    "# Regular expression is nothing patterns\n",
    "\n",
    "# in regular expressions we can impliment \n",
    "# password,email,phone number validations\n",
    "\n",
    "#\\d-->matches digits\n",
    "#\\D-->except digits\n",
    "\n",
    "#\\W-->special symbols\n",
    "\n",
    "#\\w-->except special symbol\n",
    "\n",
    "# we will use regular expressions we can import re module\n",
    "\n",
    "# methods are serach,findall,match\n",
    "\n",
    "\n",
    "# syntax regular expression \n",
    "\n",
    "# modulename.methodname(pattern,value or variablename)\n"
   ]
  },
  {
   "cell_type": "code",
   "execution_count": 6,
   "metadata": {},
   "outputs": [],
   "source": [
    "import re\n",
    "\n",
    "re.search('^kn','knowldge&nonviolance')\n",
    "\n",
    "re.search('e$','knowldge&nonviolance')\n",
    "\n",
    "re.search('........','knowledge&nonviolance')\n",
    "\n",
    "re.search('\\s','knowledge & nonviolance')\n",
    "\n",
    "re.findall('\\s','knowledge & nonviolance')\n",
    "\n",
    "re.findall('\\S','knowledge & nonviolance')\n",
    "\n",
    "re.findall('\\d','12ma1a0558')\n",
    "\n",
    "re.findall('\\D','12ma1a0558')\n",
    "\n",
    "re.findall('\\W','rama.p@apssdc.in')\n",
    "\n",
    "re.findall('\\w','123rama_.p@apssdc.in')\n",
    "\n",
    "# MObileno\n",
    "\n",
    "re.search('^[6-9][0-9]{9}$ | ^[0][6-9][0-9]{9}$ | [+][9][1][6-9][0-9]{9}$','8949066789')\n"
   ]
  },
  {
   "cell_type": "code",
   "execution_count": 8,
   "metadata": {},
   "outputs": [],
   "source": [
    "re.search('^[6-9][0-9]{9}$ | ^[0][6-9][0-9]{9}$ | [+][9][1][6-9][0-9]{9}$','8919366748')\n"
   ]
  },
  {
   "cell_type": "markdown",
   "metadata": {},
   "source": [
    "# Module And Packages:\n",
    "+ one python file Contains no.of functions\n",
    "+ no.of python files in one folder\n",
    "* if want to use modules first import modules/packages import module/Package Name\n",
    "+ predefine modules or packages\n",
    "* user define modules or packages"
   ]
  },
  {
   "cell_type": "code",
   "execution_count": null,
   "metadata": {},
   "outputs": [],
   "source": []
  },
  {
   "cell_type": "code",
   "execution_count": null,
   "metadata": {},
   "outputs": [],
   "source": []
  }
 ],
 "metadata": {
  "kernelspec": {
   "display_name": "Python 3",
   "language": "python",
   "name": "python3"
  },
  "language_info": {
   "codemirror_mode": {
    "name": "ipython",
    "version": 3
   },
   "file_extension": ".py",
   "mimetype": "text/x-python",
   "name": "python",
   "nbconvert_exporter": "python",
   "pygments_lexer": "ipython3",
   "version": "3.8.5"
  }
 },
 "nbformat": 4,
 "nbformat_minor": 4
}
