{
 "cells": [
  {
   "cell_type": "markdown",
   "metadata": {},
   "source": [
    "# Headings\n",
    "\n",
    "## Heding1\n",
    "\n",
    "### Heading2\n",
    "\n",
    "#### Heading3\n",
    "\n",
    "# Bold\n",
    "\n",
    "**Welcome**\n",
    "\n",
    "# Italic\n",
    "\n",
    "*pythonWorkshop*\n",
    "\n",
    "\n",
    "# Both Bold & Italic\n",
    "\n",
    "***Hello***\n",
    "\n",
    "# Handling Images\n",
    "\n",
    "\n",
    "## offline image\n",
    "\n",
    "\n",
    "<img src=\"sample.jpg\" height=100px width=100px>\n",
    "\n",
    "## Online Image\n",
    "\n",
    "<img src=\"https://projects-static.raspberrypi.org/projects/laser-tripwire/1ea0c85e7644b47afb1faf848fb7e1ff7121cca3/en/images/banner.png\" height=100px width=100px>\n",
    "\n",
    "\n",
    "# Links\n",
    "\n",
    "[Google](https://www.google.com)\n",
    "\n",
    "[APSSDC](https://www.apssdc.in)\n",
    "\n",
    "\n",
    "# Bullet Points\n",
    "\n",
    "+ Programming\n",
    "    + C\n",
    "    - Java\n",
    "    * Python\n",
    "\n",
    "- Web\n",
    "    + Html\n",
    "    - CSS\n",
    "    * Js\n",
    "\n",
    "* Socalwebsites\n",
    "    + Facebook\n",
    "    + Titter\n",
    "    + Istagram\n",
    "    \n",
    "\n",
    "# order list\n",
    "\n",
    "\n",
    "1. Bootstrap\n",
    "\n",
    "100. Jquery\n",
    "\n",
    "500. Ajax\n",
    "\n",
    "1000. Angularjs\n",
    "\n",
    "\n",
    "# unorder list\n",
    "\n",
    "+ Django\n",
    "\n",
    "- Flask\n",
    "\n",
    "3. Bottle\n",
    "\n",
    "- Cherrypy\n",
    "\n",
    "\n",
    "\n",
    "\n",
    "\n"
   ]
  },
  {
   "cell_type": "markdown",
   "metadata": {},
   "source": [
    "# Introduction To Python\n",
    "\n",
    "\n",
    "# History of Python\n",
    "\n",
    "# Keywords or Reserved words\n",
    "\n",
    "# Variable Decleration\n",
    "\n",
    "# Operators in Python\n",
    "\n",
    "# Comments in Python\n",
    "\n",
    "# Control flow Statements"
   ]
  },
  {
   "cell_type": "markdown",
   "metadata": {},
   "source": [
    "# Introduction To Python\n",
    "   +  Highlevel\n",
    "   + Object oriented Programming\n",
    "   + Interpeted\n",
    "   + dynamic\n",
    "   + Multipurpose\n",
    "\n",
    "# History of Python\n",
    "\n",
    "\n",
    "+ In 1980's  strated implimentation of python\n",
    "\n",
    "+ In 1991 released 0.9.0 version\n",
    "\n",
    "+ In 1994 realesed 1.0 version with features of Ananymous Function like Lambda,Map,Filter Reduce.\n",
    "\n",
    "+ In 2000 again republished 2.0 version wih features of data starctures like List,Tuple,Dictionary,Sets\n",
    "\n",
    "\n",
    "+ In 2008 again republished 3.0 with features of garbage collection and fastWorking & Updations\n",
    "\n",
    "\n",
    "\n"
   ]
  },
  {
   "cell_type": "code",
   "execution_count": 10,
   "metadata": {},
   "outputs": [
    {
     "data": {
      "text/plain": [
       "['False',\n",
       " 'None',\n",
       " 'True',\n",
       " 'and',\n",
       " 'as',\n",
       " 'assert',\n",
       " 'async',\n",
       " 'await',\n",
       " 'break',\n",
       " 'class',\n",
       " 'continue',\n",
       " 'def',\n",
       " 'del',\n",
       " 'elif',\n",
       " 'else',\n",
       " 'except',\n",
       " 'finally',\n",
       " 'for',\n",
       " 'from',\n",
       " 'global',\n",
       " 'if',\n",
       " 'import',\n",
       " 'in',\n",
       " 'is',\n",
       " 'lambda',\n",
       " 'nonlocal',\n",
       " 'not',\n",
       " 'or',\n",
       " 'pass',\n",
       " 'raise',\n",
       " 'return',\n",
       " 'try',\n",
       " 'while',\n",
       " 'with',\n",
       " 'yield']"
      ]
     },
     "execution_count": 10,
     "metadata": {},
     "output_type": "execute_result"
    }
   ],
   "source": [
    "# Keywords or Reserved words\n",
    "import keyword\n",
    "dir(keyword)\n",
    "\n",
    "keyword.iskeyword('is')\n",
    "keyword.iskeyword('iss')\n",
    "\n",
    "keyword.kwlist"
   ]
  },
  {
   "cell_type": "code",
   "execution_count": 24,
   "metadata": {},
   "outputs": [
    {
     "name": "stdout",
     "output_type": "stream",
     "text": [
      "10\n",
      "100\n",
      "hello\n"
     ]
    }
   ],
   "source": [
    "# Variable Decleration\n",
    "a=10\n",
    "#1b=100\n",
    "b1=100\n",
    "_c='hello'\n",
    "print(a)\n",
    "#print(1b)\n",
    "print(b1)\n",
    "print(_c)\n",
    "\n",
    "\n",
    "\n"
   ]
  },
  {
   "cell_type": "code",
   "execution_count": 25,
   "metadata": {
    "scrolled": false
   },
   "outputs": [
    {
     "name": "stdout",
     "output_type": "stream",
     "text": [
      "10\n",
      "10\n",
      "10\n",
      "10\n"
     ]
    }
   ],
   "source": [
    "# How to Store single value in multiple variables\n",
    "\n",
    "a=b=c=d=10\n",
    "print(a)\n",
    "print(b)\n",
    "print(c)\n",
    "print(d)"
   ]
  },
  {
   "cell_type": "code",
   "execution_count": 27,
   "metadata": {},
   "outputs": [
    {
     "name": "stdout",
     "output_type": "stream",
     "text": [
      "10\n",
      "20\n",
      "30\n",
      "40\n"
     ]
    }
   ],
   "source": [
    "# How to Store Multiple value in multiple variables\n",
    "a,b,c,d=10,20,30,40\n",
    "print(a)\n",
    "print(b)\n",
    "print(c)\n",
    "print(d)\n"
   ]
  },
  {
   "cell_type": "markdown",
   "metadata": {},
   "source": [
    "# operators\n",
    "\n",
    "1. Arthematic Operator(+,-,x,/,%,//,xx)\n",
    "2. Relational (or) Comparision Operator(<,>,<=,>=,==,!=)\n",
    "3. Assignment Operator(+=,-=,x=,/=,xx=,=)\n",
    "4. Logical Operator (and,or,not)\n",
    "5. Bitwise Operator(&,|,^)\n",
    "6. Membership (in, not in)\n",
    "7. Identity Operator(is, is not)"
   ]
  },
  {
   "cell_type": "code",
   "execution_count": null,
   "metadata": {},
   "outputs": [],
   "source": []
  },
  {
   "cell_type": "code",
   "execution_count": null,
   "metadata": {},
   "outputs": [],
   "source": []
  },
  {
   "cell_type": "code",
   "execution_count": null,
   "metadata": {},
   "outputs": [],
   "source": []
  },
  {
   "cell_type": "code",
   "execution_count": null,
   "metadata": {},
   "outputs": [],
   "source": []
  },
  {
   "cell_type": "code",
   "execution_count": null,
   "metadata": {},
   "outputs": [],
   "source": []
  },
  {
   "cell_type": "code",
   "execution_count": null,
   "metadata": {},
   "outputs": [],
   "source": []
  },
  {
   "cell_type": "code",
   "execution_count": null,
   "metadata": {},
   "outputs": [],
   "source": []
  },
  {
   "cell_type": "code",
   "execution_count": null,
   "metadata": {},
   "outputs": [],
   "source": []
  },
  {
   "cell_type": "markdown",
   "metadata": {},
   "source": [
    "# Data Types in python\n",
    "\n",
    "<img src=\"data.png\">"
   ]
  },
  {
   "cell_type": "markdown",
   "metadata": {},
   "source": [
    "# Write A program to print user can give i/p values print below format\n",
    "\n",
    "## Addition of 10+20=30 by using Commma sepration\n",
    "## Addition of 10+20=30 by using format specifier\n",
    "## Addition of 10+20=30 by using format method"
   ]
  },
  {
   "cell_type": "code",
   "execution_count": null,
   "metadata": {},
   "outputs": [],
   "source": []
  },
  {
   "cell_type": "code",
   "execution_count": null,
   "metadata": {},
   "outputs": [],
   "source": []
  },
  {
   "cell_type": "markdown",
   "metadata": {},
   "source": [
    "# Conditional Statements"
   ]
  },
  {
   "cell_type": "code",
   "execution_count": null,
   "metadata": {},
   "outputs": [],
   "source": []
  },
  {
   "cell_type": "code",
   "execution_count": null,
   "metadata": {},
   "outputs": [],
   "source": []
  },
  {
   "cell_type": "code",
   "execution_count": null,
   "metadata": {},
   "outputs": [],
   "source": []
  },
  {
   "cell_type": "markdown",
   "metadata": {},
   "source": [
    "# Write a Program to print Days\n",
    " \n",
    " #### User Take 0-7 Numbers \n",
    " \n",
    " #### 0 is sunday\n",
    " \n",
    " #### 7 is Saturday\n",
    " \n",
    " ### User can give above 7 -->print (invalid day)\n",
    " \n",
    "# Take 2 Inputs From  User\n",
    "\n",
    "## First input username\n",
    "\n",
    "## Second input Password\n",
    "\n",
    "### Both Condition True\n",
    "\n",
    "### Print Welcome Current username\n",
    "\n",
    "#### Otherwise Invalid Username or Password\n",
    "\n",
    "\n",
    "# Write a program to print user given the values\n",
    "\n",
    "### User can Give the a-z or A-z -->print Alphabet\n",
    "\n",
    "### User can Give the 0-9 -->print digit\n",
    "\n",
    "### User can Give the @,#, $ ,%,^,()-->SpecialSymbol"
   ]
  },
  {
   "cell_type": "code",
   "execution_count": null,
   "metadata": {},
   "outputs": [],
   "source": []
  }
 ],
 "metadata": {
  "kernelspec": {
   "display_name": "Python 3",
   "language": "python",
   "name": "python3"
  },
  "language_info": {
   "codemirror_mode": {
    "name": "ipython",
    "version": 3
   },
   "file_extension": ".py",
   "mimetype": "text/x-python",
   "name": "python",
   "nbconvert_exporter": "python",
   "pygments_lexer": "ipython3",
   "version": "3.7.3"
  }
 },
 "nbformat": 4,
 "nbformat_minor": 2
}
