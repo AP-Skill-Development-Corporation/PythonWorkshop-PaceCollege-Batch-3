{
 "cells": [
  {
   "cell_type": "markdown",
   "metadata": {},
   "source": [
    "# To Day Agenda\n",
    "\n",
    "+ Execution of Commands in Python Shell\n",
    "- Data Types\n",
    "    + int\n",
    "    + float\n",
    "    + bool\n",
    "    - complex\n",
    "    + str\n",
    "+ I/p And o/p\n",
    "\n",
    "+ Program Execution in idle\n",
    "\n",
    "- Program Execution in command prompt\n",
    "\n",
    "\n",
    "+ Git Hub Account Creation\n",
    "\n"
   ]
  },
  {
   "cell_type": "markdown",
   "metadata": {},
   "source": [
    "# operators\n",
    "\n",
    "1. Arthematic Operator(+,-,x,/,%,//,xx)\n",
    "2. Relational (or) Comparision Operator(<,>,<=,>=,==,!=)\n",
    "3. Assignment Operator(+=,-=,x=,/=,xx=,=)\n",
    "4. Logical Operator (and,or,not)\n",
    "5. Bitwise Operator(&,|,^)\n",
    "6. Membership (in, not in)\n",
    "7. Identity Operator(is, is not)"
   ]
  },
  {
   "cell_type": "markdown",
   "metadata": {},
   "source": [
    "# Write A program to print user can give i/p values print below format\n",
    "\n",
    "## Addition of 10+20=30 by using Commma sepration\n",
    "## Addition of 10+20=30 by using format specifier\n",
    "## Addition of 10+20=30 by using format method"
   ]
  },
  {
   "cell_type": "code",
   "execution_count": null,
   "metadata": {},
   "outputs": [],
   "source": [
    "a=10\n",
    "b=20\n",
    "print(a+b)\n",
    "print(a-b)\n",
    "print(a*b)\n",
    "print(a/b)# floating\n",
    "print(a//b)# Integer\n",
    "print(a%b)\n",
    "print(a**b)\n",
    "print(pow(2,4))"
   ]
  },
  {
   "cell_type": "code",
   "execution_count": null,
   "metadata": {},
   "outputs": [],
   "source": [
    "# Relational or Comparision Operator\n",
    "print(50>100)\n",
    "print(100<40)\n",
    "print(30>=29)\n",
    "print(40<=50)\n",
    "print(2==2)\n",
    "print(2==1)\n",
    "print(10!=5)\n",
    "print(15!=15)"
   ]
  },
  {
   "cell_type": "code",
   "execution_count": null,
   "metadata": {},
   "outputs": [],
   "source": [
    "# Logical operators\n",
    "\n",
    "print(False and False)\n",
    "print(False and True)\n",
    "print(True and False)\n",
    "print(True and True)"
   ]
  },
  {
   "cell_type": "code",
   "execution_count": null,
   "metadata": {},
   "outputs": [],
   "source": [
    "print(False or False)\n",
    "print(False or True)\n",
    "print(True or False)\n",
    "print(True or True)"
   ]
  },
  {
   "cell_type": "code",
   "execution_count": null,
   "metadata": {},
   "outputs": [],
   "source": [
    "# not with and\n",
    "\n",
    "print(not(False and False))\n",
    "print(not(False and True))\n",
    "print(not(True and False))\n",
    "print(not(True and True))"
   ]
  },
  {
   "cell_type": "code",
   "execution_count": null,
   "metadata": {},
   "outputs": [],
   "source": [
    "# not with or\n",
    "\n",
    "print(not(False or False))\n",
    "print(not(False or True))\n",
    "print(not(True or False))\n",
    "print(not(True or True))"
   ]
  },
  {
   "cell_type": "code",
   "execution_count": null,
   "metadata": {},
   "outputs": [],
   "source": [
    "print(10>9 and 5<4)\n",
    "print(10==10 and 9!=9)\n",
    "print(9!=5 or 5==5)\n",
    "print(not(100>99 and 50<20))\n"
   ]
  },
  {
   "cell_type": "code",
   "execution_count": null,
   "metadata": {},
   "outputs": [],
   "source": [
    "# Assignment Operator\n",
    "a=5\n",
    "a+=5\n",
    "a-=6\n",
    "a*=4\n",
    "a/=8\n",
    "a"
   ]
  },
  {
   "cell_type": "code",
   "execution_count": null,
   "metadata": {},
   "outputs": [],
   "source": [
    "# Bit wise Operator & |,^\n",
    "\n",
    "2&2\n",
    "\n",
    "10 & 5\n",
    "\n",
    "11 | 6\n",
    "\n",
    "20^10\n",
    "\n",
    "ord('A')\n",
    "\n",
    "ord('a')\n",
    "\n",
    "chr(97)"
   ]
  },
  {
   "cell_type": "code",
   "execution_count": null,
   "metadata": {},
   "outputs": [],
   "source": [
    "# Menbership in, not in\n",
    "\n",
    "s=\"Welcome to python workshop\"\n",
    "\n",
    "'to' in s\n",
    "\n",
    "'too' in s\n",
    "\n",
    "'workz' not in s"
   ]
  },
  {
   "cell_type": "code",
   "execution_count": null,
   "metadata": {},
   "outputs": [],
   "source": [
    "# Identity Operator is is not ,==,!=\n",
    "\n",
    "n='hello'\n",
    "\n",
    "m='hello'\n",
    "\n",
    "n is not m"
   ]
  },
  {
   "cell_type": "code",
   "execution_count": null,
   "metadata": {},
   "outputs": [],
   "source": [
    "# Conditional Statements\n",
    "# if elif else\n",
    "\n",
    "# Syntax\n",
    "if (condition):\n",
    "    statements\n",
    "elif (condition):\n",
    "    statements\n",
    "else:\n",
    "    statements\n"
   ]
  },
  {
   "cell_type": "code",
   "execution_count": null,
   "metadata": {},
   "outputs": [],
   "source": [
    "n=int(input('enter the number:-'))\n",
    "if n%2==0:\n",
    "    \n",
    "    print(n,'Even Number')\n",
    "else:\n",
    "    print(n,'Odd Number')\n"
   ]
  },
  {
   "cell_type": "code",
   "execution_count": null,
   "metadata": {},
   "outputs": [],
   "source": []
  },
  {
   "cell_type": "code",
   "execution_count": null,
   "metadata": {},
   "outputs": [],
   "source": []
  },
  {
   "cell_type": "markdown",
   "metadata": {},
   "source": [
    "# Write a Program to print Days\n",
    " \n",
    " #### User Take 0-6 Numbers \n",
    " \n",
    " #### 0 is sunday\n",
    "  \n",
    " #### 6 is Saturday\n",
    " \n",
    " ### User can give above 6 -->print (invalid day)\n",
    " \n",
    "# Take 2 Inputs From  User\n",
    "\n",
    "## First input username\n",
    "\n",
    "## Second input Password\n",
    "\n",
    "### Both Condition True\n",
    "\n",
    "### Print Welcome Current username\n",
    "\n",
    "#### Otherwise Invalid Username or Password\n",
    "\n",
    "\n",
    "# Write a program to print user given the values\n",
    "\n",
    "### User can Give the a-z or A-z -->print Alphabet\n",
    "\n",
    "### User can Give the 0-9 -->print digit\n",
    "\n",
    "### User can Give the @,#, $ ,%,^,()-->SpecialSymbol"
   ]
  },
  {
   "cell_type": "code",
   "execution_count": null,
   "metadata": {},
   "outputs": [],
   "source": [
    "# Iterations\n",
    "# For,While\n",
    "# Syntax\n",
    "\n",
    "# for variable in range(inclusive,exclisive,step):\n",
    "    print(vaiablename)"
   ]
  },
  {
   "cell_type": "code",
   "execution_count": null,
   "metadata": {},
   "outputs": [],
   "source": [
    "#for temp in range(10+1):  # 10+1 or 11 \n",
    "#    print(temp)\n",
    "'''for i in range(1,100+1):\n",
    "    print(i,end=\"-->\")\n",
    "\n",
    "for rev in range(100,0,-1):\n",
    "    print(rev,end=\"<---\")\n",
    "\n",
    "\n",
    "for even in range(0,50+1,2):\n",
    "    print(even,end=' ')\n",
    "\n",
    "for odd in range(1,50+1,2):\n",
    "    print(odd, end=\" \")'''\n",
    "\n",
    "for dif in range(0,100,10):\n",
    "    print(dif,end=\" \")"
   ]
  },
  {
   "cell_type": "code",
   "execution_count": null,
   "metadata": {
    "scrolled": true
   },
   "outputs": [],
   "source": [
    "num =int(input('Enter Table:- '))\n",
    "for i in  range(1,10+1):\n",
    "    print(num,'*',i,'=',num*i)"
   ]
  },
  {
   "cell_type": "code",
   "execution_count": null,
   "metadata": {},
   "outputs": [],
   "source": [
    "# Find Factiorial number using forloop and whileloop"
   ]
  },
  {
   "cell_type": "code",
   "execution_count": null,
   "metadata": {},
   "outputs": [],
   "source": [
    "# Find Factors using forloop and whileloop"
   ]
  },
  {
   "cell_type": "code",
   "execution_count": null,
   "metadata": {},
   "outputs": [],
   "source": [
    "# While loop we can execute a set of \n",
    "# statements condition is true.\n",
    "\n",
    "# while condition:\n",
    "    #statements"
   ]
  },
  {
   "cell_type": "code",
   "execution_count": null,
   "metadata": {},
   "outputs": [],
   "source": [
    "# by using while loop to print values\n",
    "#"
   ]
  },
  {
   "cell_type": "code",
   "execution_count": null,
   "metadata": {},
   "outputs": [],
   "source": [
    "i=1\n",
    "while i<=20:\n",
    "    print(i)\n",
    "    i+=1"
   ]
  },
  {
   "cell_type": "code",
   "execution_count": null,
   "metadata": {},
   "outputs": [],
   "source": [
    "i=20\n",
    "while i>=1:\n",
    "    print(i)\n",
    "    i-=1"
   ]
  },
  {
   "cell_type": "code",
   "execution_count": null,
   "metadata": {},
   "outputs": [],
   "source": [
    "# using forloop even numbers\n",
    "\n",
    "n=int(input('enter values'))\n",
    "for i in range(0,n+1):\n",
    "    if i%2==0:\n",
    "        print(i,'is even',end=\", \")"
   ]
  },
  {
   "cell_type": "code",
   "execution_count": 1,
   "metadata": {},
   "outputs": [
    {
     "name": "stdout",
     "output_type": "stream",
     "text": [
      "Enter the value50\n",
      "2 is even--->4 is even--->6 is even--->8 is even--->10 is even--->12 is even--->14 is even--->16 is even--->18 is even--->20 is even--->22 is even--->24 is even--->26 is even--->28 is even--->30 is even--->32 is even--->34 is even--->36 is even--->38 is even--->40 is even--->42 is even--->44 is even--->46 is even--->48 is even--->50 is even--->"
     ]
    }
   ],
   "source": [
    "# While condition using even numbers\n",
    "n1=int(input('Enter the value'))\n",
    "i=1\n",
    "while i<=n1:\n",
    "    if i%2==0:\n",
    "        print(i,'is even',end=\"--->\")\n",
    "    i+=1"
   ]
  },
  {
   "cell_type": "code",
   "execution_count": null,
   "metadata": {},
   "outputs": [],
   "source": [
    "# While condition using odd  numbers"
   ]
  },
  {
   "cell_type": "code",
   "execution_count": 3,
   "metadata": {},
   "outputs": [
    {
     "name": "stdout",
     "output_type": "stream",
     "text": [
      "h\n",
      "e\n",
      "o\n"
     ]
    }
   ],
   "source": [
    "# Jumping statements\n",
    "\n",
    "#break,continue pass\n",
    "\n",
    "# s='hello'\n",
    "# for i in s:\n",
    "#     if i==\"l\":\n",
    "#         break\n",
    "#     print(i)\n",
    "\n",
    "s='hello'\n",
    "for i in s:\n",
    "    if i==\"l\":\n",
    "        continue\n",
    "    print(i)"
   ]
  },
  {
   "cell_type": "code",
   "execution_count": null,
   "metadata": {},
   "outputs": [],
   "source": [
    "def name:\n",
    "    pass"
   ]
  },
  {
   "cell_type": "code",
   "execution_count": null,
   "metadata": {},
   "outputs": [],
   "source": [
    "# Functions 3types\n",
    "\n",
    "# Predefined\n",
    "# print,input,type,ord,chr,bin,sum,max,min,round,sorted,\n",
    "\n",
    "# User defined\n",
    "\n",
    "# Special functions\n"
   ]
  },
  {
   "cell_type": "code",
   "execution_count": 19,
   "metadata": {},
   "outputs": [
    {
     "data": {
      "text/plain": [
       "1"
      ]
     },
     "execution_count": 19,
     "metadata": {},
     "output_type": "execute_result"
    }
   ],
   "source": [
    "a=\"python workshop\"\n",
    "b=[1,2,3,4,5]\n",
    "c='g'\n",
    "len(a)\n",
    "type(a)\n",
    "ord('z')\n",
    "bin(5)\n",
    "sum(b)\n",
    "max(a)\n",
    "min(a)\n",
    "round(10.30)\n",
    "sorted(a)\n",
    "all(c)\n",
    "any(c)\n",
    "abs(-1)"
   ]
  },
  {
   "cell_type": "code",
   "execution_count": null,
   "metadata": {},
   "outputs": [],
   "source": []
  }
 ],
 "metadata": {
  "kernelspec": {
   "display_name": "Python 3",
   "language": "python",
   "name": "python3"
  },
  "language_info": {
   "codemirror_mode": {
    "name": "ipython",
    "version": 3
   },
   "file_extension": ".py",
   "mimetype": "text/x-python",
   "name": "python",
   "nbconvert_exporter": "python",
   "pygments_lexer": "ipython3",
   "version": "3.7.3"
  }
 },
 "nbformat": 4,
 "nbformat_minor": 2
}
